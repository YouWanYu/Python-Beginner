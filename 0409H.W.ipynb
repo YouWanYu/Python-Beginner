{
 "cells": [
  {
   "cell_type": "code",
   "execution_count": 2,
   "id": "584a79c9-3abc-4161-8900-8809410062d5",
   "metadata": {},
   "outputs": [
    {
     "name": "stdout",
     "output_type": "stream",
     "text": [
      "Today's fruit is :Pear\n"
     ]
    }
   ],
   "source": [
    "# Choice fruits randomly\n",
    "\n",
    "import random\n",
    "\n",
    "fruits=['Apple','Orange','Banana','Pear','Tomato','strawbarry','grape']\n",
    "cf=random.choice(fruits)\n",
    "\n",
    "print(\"Today's fruit is :\" + cf)"
   ]
  },
  {
   "cell_type": "code",
   "execution_count": 1,
   "id": "439b78f9-9965-41b9-988f-e575169e0815",
   "metadata": {},
   "outputs": [
    {
     "name": "stdin",
     "output_type": "stream",
     "text": [
      "請輸入景氣對策號綜合分數 32\n"
     ]
    },
    {
     "name": "stdout",
     "output_type": "stream",
     "text": [
      "紅黃燈\n"
     ]
    }
   ],
   "source": [
    "# 景氣對策信號\n",
    "\n",
    "score=int(input('請輸入景氣對策號綜合分數'))\n",
    "if score>45 or score<9:\n",
    "    print('錯誤')\n",
    "elif score>=37:\n",
    "    print('紅燈')\n",
    "elif score>=31:\n",
    "    print('紅黃燈')\n",
    "elif score>=22:\n",
    "    print('綠燈')\n",
    "elif score>=16:\n",
    "    print('黃藍燈')\n",
    "elif score>=9:\n",
    "    print('藍燈')"
   ]
  },
  {
   "cell_type": "code",
   "execution_count": 2,
   "id": "05f57cdd-d67c-45af-9f48-ef65e7c3cfc0",
   "metadata": {},
   "outputs": [
    {
     "name": "stdin",
     "output_type": "stream",
     "text": [
      "請輸入淨年所得額: 1270000\n"
     ]
    },
    {
     "name": "stdout",
     "output_type": "stream",
     "text": [
      "應繳稅額= 114000.0\n"
     ]
    }
   ],
   "source": [
    "# 112年度綜所稅計算\n",
    "\n",
    "level1=560000*0.05\n",
    "level2=(1260000-560000)*0.12\n",
    "level3=(2520000-1260000)*0.2\n",
    "level4=(4720000-2520000)*0.3\n",
    "income=int(input('請輸入淨年所得額:'))\n",
    "\n",
    "if income <= 560000:\n",
    "    tax=income*0.05\n",
    "\n",
    "elif income <=1260000:\n",
    "    tax=level1+((income-560000)*0.12)\n",
    "\n",
    "elif income <=2520000:\n",
    "    tax=level1+level2+((income-1260000)*0.2)\n",
    "    \n",
    "elif income <=4720000:\n",
    "    tax=level1+level2+level3+((income-2520000)*0.3)\n",
    "\n",
    "else:\n",
    "    tax=level1+level2+level3+level4+((income-4720000)*0.4)\n",
    "\n",
    "print('應繳稅額=',tax)"
   ]
  },
  {
   "cell_type": "code",
   "execution_count": null,
   "id": "ac2aaa7c-da90-436e-8daf-6033222e66eb",
   "metadata": {},
   "outputs": [],
   "source": []
  }
 ],
 "metadata": {
  "kernelspec": {
   "display_name": "Python 3 (ipykernel)",
   "language": "python",
   "name": "python3"
  },
  "language_info": {
   "codemirror_mode": {
    "name": "ipython",
    "version": 3
   },
   "file_extension": ".py",
   "mimetype": "text/x-python",
   "name": "python",
   "nbconvert_exporter": "python",
   "pygments_lexer": "ipython3",
   "version": "3.11.7"
  }
 },
 "nbformat": 4,
 "nbformat_minor": 5
}
